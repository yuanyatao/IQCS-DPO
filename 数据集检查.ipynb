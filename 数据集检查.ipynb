{
 "cells": [
  {
   "cell_type": "code",
   "execution_count": 1,
   "id": "15b2bde8",
   "metadata": {},
   "outputs": [
    {
     "name": "stderr",
     "output_type": "stream",
     "text": [
      "/home/uhustiibd/miniconda3/envs/qaid3/lib/python3.8/site-packages/tqdm/auto.py:21: TqdmWarning: IProgress not found. Please update jupyter and ipywidgets. See https://ipywidgets.readthedocs.io/en/stable/user_install.html\n",
      "  from .autonotebook import tqdm as notebook_tqdm\n",
      "Warning: All of online environments libraries in D4RL have been moved \u001b]8;;https://github.com/Farama-Foundation/Gymnasium\u001b\\Gymnasium\u001b]8;;\u001b\\, \u001b]8;;https://github.com/Farama-Foundation/MiniGrid\u001b\\MiniGrid\u001b]8;;\u001b\\ and \u001b]8;;https://github.com/Farama-Foundation/Gymnasium-Robotics\u001b\\Gymnasium-Robotics\u001b]8;;\u001b\\, and all offline datasets in D4RL have been moved to \u001b]8;;https://github.com/Farama-Foundation/Minari\u001b\\Minari\u001b]8;;\u001b\\.\n",
      "These new versions include large bug fixes, new versions of Python, and are where all new development will continue. Please upgrade these libraries as soon as you're able to do so.\n",
      "If you'd like to read more about the story behind this switch, please check out \u001b]8;;https://farama.org/Announcing-Minari\u001b\\this blog post\u001b]8;;\u001b\\.\n",
      "/home/uhustiibd/miniconda3/envs/qaid3/lib/python3.8/site-packages/Cython/Distutils/old_build_ext.py:15: DeprecationWarning: dep_util is Deprecated. Use functions from setuptools instead.\n",
      "  from distutils.dep_util import newer, newer_group\n",
      "Warning: Flow failed to import. Set the environment variable D4RL_SUPPRESS_IMPORT_ERROR=1 to suppress this message.\n",
      "No module named 'flow'\n",
      "Warning: CARLA failed to import. Set the environment variable D4RL_SUPPRESS_IMPORT_ERROR=1 to suppress this message.\n",
      "No module named 'carla'\n",
      "pybullet build time: Jan 29 2025 23:19:57\n",
      "/home/uhustiibd/miniconda3/envs/qaid3/lib/python3.8/site-packages/pybullet_envs/env_bases.py:8: DeprecationWarning: pkg_resources is deprecated as an API. See https://setuptools.pypa.io/en/latest/pkg_resources.html\n",
      "  from pkg_resources import parse_version\n",
      "/home/uhustiibd/miniconda3/envs/qaid3/lib/python3.8/site-packages/pkg_resources/__init__.py:3154: DeprecationWarning: Deprecated call to `pkg_resources.declare_namespace('mpl_toolkits')`.\n",
      "Implementing implicit namespace packages (as specified in PEP 420) is preferred to `pkg_resources.declare_namespace`. See https://setuptools.pypa.io/en/latest/references/keywords.html#keyword-namespace-packages\n",
      "  declare_namespace(pkg)\n"
     ]
    }
   ],
   "source": [
    "from utils import load_dataset"
   ]
  },
  {
   "cell_type": "code",
   "execution_count": 3,
   "id": "e5d75b3e",
   "metadata": {},
   "outputs": [
    {
     "name": "stdout",
     "output_type": "stream",
     "text": [
      "==================================================\n",
      "Starting new experiment: hopper-medium-v2\n",
      "2186 trajectories, 999906 timesteps found\n",
      "Average return: 1422.06, std: 378.95\n",
      "Max return: 3222.36, min: 315.87\n",
      "Average length: 457.41, std: 110.88\n",
      "Max length: 1000.00, min: 145.00\n",
      "==================================================\n",
      "共加载到 2185 条轨迹\n",
      "state_mean shape: (11,), state_std shape: (11,), max_return: 3222.360595703125\n",
      "\n",
      "样例轨迹内容:\n",
      "\n",
      "==== 轨迹 0 ====\n",
      "  observations: shape=(161, 11), dtype=float32, first_elem=1.2531827688217163\n",
      "  next_observations: shape=(161, 11), dtype=float32, first_elem=1.252837896347046\n",
      "  actions: shape=(161, 3), dtype=float32, first_elem=0.1416223794221878\n",
      "  rewards: shape=(161,), dtype=float32, first_elem=0.9498008489608765\n",
      "  terminals: shape=(161,), dtype=bool, first_elem=False\n",
      "  traj_returns: shape=(161,), dtype=float32, first_elem=331.2542724609375\n",
      "  subgoals: shape=(161, 11), dtype=float32, first_elem=1.2531827688217163\n",
      "\n",
      "==== 轨迹 1 ====\n",
      "  observations: shape=(153, 11), dtype=float32, first_elem=1.2487314939498901\n",
      "  next_observations: shape=(153, 11), dtype=float32, first_elem=1.248345136642456\n",
      "  actions: shape=(153, 3), dtype=float32, first_elem=0.8971204161643982\n",
      "  rewards: shape=(153,), dtype=float32, first_elem=0.9558296799659729\n",
      "  terminals: shape=(153,), dtype=bool, first_elem=False\n",
      "  traj_returns: shape=(153,), dtype=float32, first_elem=334.1248779296875\n",
      "  subgoals: shape=(153, 11), dtype=float32, first_elem=1.2487314939498901\n"
     ]
    }
   ],
   "source": [
    "import numpy as np\n",
    "from utils.data import load_dataset\n",
    "\n",
    "env_name = \"hopper-medium-v2\"\n",
    "conditioning = \"rtg\"\n",
    "trajectories, state_mean, state_std, max_return = load_dataset(env_name, conditioning)\n",
    "\n",
    "print(f\"共加载到 {len(trajectories)} 条轨迹\")\n",
    "print(f\"state_mean shape: {state_mean.shape}, state_std shape: {state_std.shape}, max_return: {max_return}\")\n",
    "\n",
    "print(\"\\n样例轨迹内容:\")\n",
    "for i in range(2):  # 只打印前2条\n",
    "    print(f\"\\n==== 轨迹 {i} ====\")\n",
    "    for k, v in trajectories[i].items():\n",
    "        if isinstance(v, np.ndarray):\n",
    "            print(f\"  {k}: shape={v.shape}, dtype={v.dtype}, first_elem={v.flatten()[0] if v.size>0 else None}\")\n",
    "        else:\n",
    "            print(f\"  {k}: type={type(v)}, value={v}\")\n"
   ]
  },
  {
   "cell_type": "code",
   "execution_count": null,
   "id": "b56c4a38",
   "metadata": {},
   "outputs": [
    {
     "name": "stdout",
     "output_type": "stream",
     "text": [
      "['/home/uhustiibd/miniconda3/envs/qaid3/lib/python38.zip', '/home/uhustiibd/miniconda3/envs/qaid3/lib/python3.8', '/home/uhustiibd/miniconda3/envs/qaid3/lib/python3.8/lib-dynload', '', '/home/uhustiibd/miniconda3/envs/qaid3/lib/python3.8/site-packages', '/home/uhustiibd/yt/IQCS-DPO/d4rl']\n"
     ]
    },
    {
     "name": "stderr",
     "output_type": "stream",
     "text": [
      "Warning: All of online environments libraries in D4RL have been moved \u001b]8;;https://github.com/Farama-Foundation/Gymnasium\u001b\\Gymnasium\u001b]8;;\u001b\\, \u001b]8;;https://github.com/Farama-Foundation/MiniGrid\u001b\\MiniGrid\u001b]8;;\u001b\\ and \u001b]8;;https://github.com/Farama-Foundation/Gymnasium-Robotics\u001b\\Gymnasium-Robotics\u001b]8;;\u001b\\, and all offline datasets in D4RL have been moved to \u001b]8;;https://github.com/Farama-Foundation/Minari\u001b\\Minari\u001b]8;;\u001b\\.\n",
      "These new versions include large bug fixes, new versions of Python, and are where all new development will continue. Please upgrade these libraries as soon as you're able to do so.\n",
      "If you'd like to read more about the story behind this switch, please check out \u001b]8;;https://farama.org/Announcing-Minari\u001b\\this blog post\u001b]8;;\u001b\\.\n",
      "/home/uhustiibd/miniconda3/envs/qaid3/lib/python3.8/site-packages/Cython/Distutils/old_build_ext.py:15: DeprecationWarning: dep_util is Deprecated. Use functions from setuptools instead.\n",
      "  from distutils.dep_util import newer, newer_group\n",
      "Warning: Flow failed to import. Set the environment variable D4RL_SUPPRESS_IMPORT_ERROR=1 to suppress this message.\n",
      "No module named 'flow'\n",
      "Warning: CARLA failed to import. Set the environment variable D4RL_SUPPRESS_IMPORT_ERROR=1 to suppress this message.\n",
      "No module named 'carla'\n",
      "pybullet build time: Jan 29 2025 23:19:57\n",
      "/home/uhustiibd/miniconda3/envs/qaid3/lib/python3.8/site-packages/pybullet_envs/env_bases.py:8: DeprecationWarning: pkg_resources is deprecated as an API. See https://setuptools.pypa.io/en/latest/pkg_resources.html\n",
      "  from pkg_resources import parse_version\n"
     ]
    },
    {
     "name": "stdout",
     "output_type": "stream",
     "text": [
      "/home/uhustiibd/yt/IQCS-DPO/d4rl/d4rl/__init__.py\n"
     ]
    },
    {
     "name": "stderr",
     "output_type": "stream",
     "text": [
      "/home/uhustiibd/miniconda3/envs/qaid3/lib/python3.8/site-packages/pkg_resources/__init__.py:3154: DeprecationWarning: Deprecated call to `pkg_resources.declare_namespace('mpl_toolkits')`.\n",
      "Implementing implicit namespace packages (as specified in PEP 420) is preferred to `pkg_resources.declare_namespace`. See https://setuptools.pypa.io/en/latest/references/keywords.html#keyword-namespace-packages\n",
      "  declare_namespace(pkg)\n"
     ]
    }
   ],
   "source": [
    "\n"
   ]
  }
 ],
 "metadata": {
  "kernelspec": {
   "display_name": "qaid3",
   "language": "python",
   "name": "python3"
  },
  "language_info": {
   "codemirror_mode": {
    "name": "ipython",
    "version": 3
   },
   "file_extension": ".py",
   "mimetype": "text/x-python",
   "name": "python",
   "nbconvert_exporter": "python",
   "pygments_lexer": "ipython3",
   "version": "3.8.20"
  }
 },
 "nbformat": 4,
 "nbformat_minor": 5
}
